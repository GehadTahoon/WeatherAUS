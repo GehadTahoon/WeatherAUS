{
 "cells": [
  {
   "cell_type": "code",
   "execution_count": 13,
   "id": "af1509be",
   "metadata": {},
   "outputs": [],
   "source": [
    "# import packages\n",
    "import pandas as pd \n",
    "import numpy as np\n",
    "import matplotlib.pyplot as plt \n",
    "import seaborn as sns \n",
    "sns.set()"
   ]
  },
  {
   "cell_type": "code",
   "execution_count": 14,
   "id": "528d5e5f",
   "metadata": {},
   "outputs": [],
   "source": [
    "# read data\n",
    "raw_train_data = pd.read_csv('data/Weather Training Data.csv')\n",
    "raw_test_data = pd.read_csv('data/Weather Test Data.csv')"
   ]
  },
  {
   "cell_type": "code",
   "execution_count": 15,
   "id": "c4e7827b",
   "metadata": {},
   "outputs": [
    {
     "data": {
      "text/html": [
       "<div>\n",
       "<style scoped>\n",
       "    .dataframe tbody tr th:only-of-type {\n",
       "        vertical-align: middle;\n",
       "    }\n",
       "\n",
       "    .dataframe tbody tr th {\n",
       "        vertical-align: top;\n",
       "    }\n",
       "\n",
       "    .dataframe thead th {\n",
       "        text-align: right;\n",
       "    }\n",
       "</style>\n",
       "<table border=\"1\" class=\"dataframe\">\n",
       "  <thead>\n",
       "    <tr style=\"text-align: right;\">\n",
       "      <th></th>\n",
       "      <th>row ID</th>\n",
       "      <th>Location</th>\n",
       "      <th>MinTemp</th>\n",
       "      <th>MaxTemp</th>\n",
       "      <th>Rainfall</th>\n",
       "      <th>Evaporation</th>\n",
       "      <th>Sunshine</th>\n",
       "      <th>WindGustDir</th>\n",
       "      <th>WindGustSpeed</th>\n",
       "      <th>WindDir9am</th>\n",
       "      <th>...</th>\n",
       "      <th>Humidity9am</th>\n",
       "      <th>Humidity3pm</th>\n",
       "      <th>Pressure9am</th>\n",
       "      <th>Pressure3pm</th>\n",
       "      <th>Cloud9am</th>\n",
       "      <th>Cloud3pm</th>\n",
       "      <th>Temp9am</th>\n",
       "      <th>Temp3pm</th>\n",
       "      <th>RainToday</th>\n",
       "      <th>RainTomorrow</th>\n",
       "    </tr>\n",
       "  </thead>\n",
       "  <tbody>\n",
       "    <tr>\n",
       "      <th>0</th>\n",
       "      <td>Row0</td>\n",
       "      <td>Albury</td>\n",
       "      <td>13.4</td>\n",
       "      <td>22.9</td>\n",
       "      <td>0.6</td>\n",
       "      <td>NaN</td>\n",
       "      <td>NaN</td>\n",
       "      <td>W</td>\n",
       "      <td>44.0</td>\n",
       "      <td>W</td>\n",
       "      <td>...</td>\n",
       "      <td>71.0</td>\n",
       "      <td>22.0</td>\n",
       "      <td>1007.7</td>\n",
       "      <td>1007.1</td>\n",
       "      <td>8.0</td>\n",
       "      <td>NaN</td>\n",
       "      <td>16.9</td>\n",
       "      <td>21.8</td>\n",
       "      <td>No</td>\n",
       "      <td>0</td>\n",
       "    </tr>\n",
       "    <tr>\n",
       "      <th>1</th>\n",
       "      <td>Row1</td>\n",
       "      <td>Albury</td>\n",
       "      <td>7.4</td>\n",
       "      <td>25.1</td>\n",
       "      <td>0.0</td>\n",
       "      <td>NaN</td>\n",
       "      <td>NaN</td>\n",
       "      <td>WNW</td>\n",
       "      <td>44.0</td>\n",
       "      <td>NNW</td>\n",
       "      <td>...</td>\n",
       "      <td>44.0</td>\n",
       "      <td>25.0</td>\n",
       "      <td>1010.6</td>\n",
       "      <td>1007.8</td>\n",
       "      <td>NaN</td>\n",
       "      <td>NaN</td>\n",
       "      <td>17.2</td>\n",
       "      <td>24.3</td>\n",
       "      <td>No</td>\n",
       "      <td>0</td>\n",
       "    </tr>\n",
       "    <tr>\n",
       "      <th>2</th>\n",
       "      <td>Row2</td>\n",
       "      <td>Albury</td>\n",
       "      <td>17.5</td>\n",
       "      <td>32.3</td>\n",
       "      <td>1.0</td>\n",
       "      <td>NaN</td>\n",
       "      <td>NaN</td>\n",
       "      <td>W</td>\n",
       "      <td>41.0</td>\n",
       "      <td>ENE</td>\n",
       "      <td>...</td>\n",
       "      <td>82.0</td>\n",
       "      <td>33.0</td>\n",
       "      <td>1010.8</td>\n",
       "      <td>1006.0</td>\n",
       "      <td>7.0</td>\n",
       "      <td>8.0</td>\n",
       "      <td>17.8</td>\n",
       "      <td>29.7</td>\n",
       "      <td>No</td>\n",
       "      <td>0</td>\n",
       "    </tr>\n",
       "    <tr>\n",
       "      <th>3</th>\n",
       "      <td>Row3</td>\n",
       "      <td>Albury</td>\n",
       "      <td>14.6</td>\n",
       "      <td>29.7</td>\n",
       "      <td>0.2</td>\n",
       "      <td>NaN</td>\n",
       "      <td>NaN</td>\n",
       "      <td>WNW</td>\n",
       "      <td>56.0</td>\n",
       "      <td>W</td>\n",
       "      <td>...</td>\n",
       "      <td>55.0</td>\n",
       "      <td>23.0</td>\n",
       "      <td>1009.2</td>\n",
       "      <td>1005.4</td>\n",
       "      <td>NaN</td>\n",
       "      <td>NaN</td>\n",
       "      <td>20.6</td>\n",
       "      <td>28.9</td>\n",
       "      <td>No</td>\n",
       "      <td>0</td>\n",
       "    </tr>\n",
       "    <tr>\n",
       "      <th>4</th>\n",
       "      <td>Row4</td>\n",
       "      <td>Albury</td>\n",
       "      <td>7.7</td>\n",
       "      <td>26.7</td>\n",
       "      <td>0.0</td>\n",
       "      <td>NaN</td>\n",
       "      <td>NaN</td>\n",
       "      <td>W</td>\n",
       "      <td>35.0</td>\n",
       "      <td>SSE</td>\n",
       "      <td>...</td>\n",
       "      <td>48.0</td>\n",
       "      <td>19.0</td>\n",
       "      <td>1013.4</td>\n",
       "      <td>1010.1</td>\n",
       "      <td>NaN</td>\n",
       "      <td>NaN</td>\n",
       "      <td>16.3</td>\n",
       "      <td>25.5</td>\n",
       "      <td>No</td>\n",
       "      <td>0</td>\n",
       "    </tr>\n",
       "    <tr>\n",
       "      <th>5</th>\n",
       "      <td>Row5</td>\n",
       "      <td>Albury</td>\n",
       "      <td>13.1</td>\n",
       "      <td>30.1</td>\n",
       "      <td>1.4</td>\n",
       "      <td>NaN</td>\n",
       "      <td>NaN</td>\n",
       "      <td>W</td>\n",
       "      <td>28.0</td>\n",
       "      <td>S</td>\n",
       "      <td>...</td>\n",
       "      <td>58.0</td>\n",
       "      <td>27.0</td>\n",
       "      <td>1007.0</td>\n",
       "      <td>1005.7</td>\n",
       "      <td>NaN</td>\n",
       "      <td>NaN</td>\n",
       "      <td>20.1</td>\n",
       "      <td>28.2</td>\n",
       "      <td>Yes</td>\n",
       "      <td>0</td>\n",
       "    </tr>\n",
       "    <tr>\n",
       "      <th>6</th>\n",
       "      <td>Row6</td>\n",
       "      <td>Albury</td>\n",
       "      <td>13.4</td>\n",
       "      <td>30.4</td>\n",
       "      <td>0.0</td>\n",
       "      <td>NaN</td>\n",
       "      <td>NaN</td>\n",
       "      <td>N</td>\n",
       "      <td>30.0</td>\n",
       "      <td>SSE</td>\n",
       "      <td>...</td>\n",
       "      <td>48.0</td>\n",
       "      <td>22.0</td>\n",
       "      <td>1011.8</td>\n",
       "      <td>1008.7</td>\n",
       "      <td>NaN</td>\n",
       "      <td>NaN</td>\n",
       "      <td>20.4</td>\n",
       "      <td>28.8</td>\n",
       "      <td>No</td>\n",
       "      <td>1</td>\n",
       "    </tr>\n",
       "    <tr>\n",
       "      <th>7</th>\n",
       "      <td>Row7</td>\n",
       "      <td>Albury</td>\n",
       "      <td>15.9</td>\n",
       "      <td>21.7</td>\n",
       "      <td>2.2</td>\n",
       "      <td>NaN</td>\n",
       "      <td>NaN</td>\n",
       "      <td>NNE</td>\n",
       "      <td>31.0</td>\n",
       "      <td>NE</td>\n",
       "      <td>...</td>\n",
       "      <td>89.0</td>\n",
       "      <td>91.0</td>\n",
       "      <td>1010.5</td>\n",
       "      <td>1004.2</td>\n",
       "      <td>8.0</td>\n",
       "      <td>8.0</td>\n",
       "      <td>15.9</td>\n",
       "      <td>17.0</td>\n",
       "      <td>Yes</td>\n",
       "      <td>1</td>\n",
       "    </tr>\n",
       "    <tr>\n",
       "      <th>8</th>\n",
       "      <td>Row8</td>\n",
       "      <td>Albury</td>\n",
       "      <td>12.6</td>\n",
       "      <td>21.0</td>\n",
       "      <td>3.6</td>\n",
       "      <td>NaN</td>\n",
       "      <td>NaN</td>\n",
       "      <td>SW</td>\n",
       "      <td>44.0</td>\n",
       "      <td>W</td>\n",
       "      <td>...</td>\n",
       "      <td>65.0</td>\n",
       "      <td>43.0</td>\n",
       "      <td>1001.2</td>\n",
       "      <td>1001.8</td>\n",
       "      <td>NaN</td>\n",
       "      <td>7.0</td>\n",
       "      <td>15.8</td>\n",
       "      <td>19.8</td>\n",
       "      <td>Yes</td>\n",
       "      <td>0</td>\n",
       "    </tr>\n",
       "    <tr>\n",
       "      <th>9</th>\n",
       "      <td>Row9</td>\n",
       "      <td>Albury</td>\n",
       "      <td>9.8</td>\n",
       "      <td>27.7</td>\n",
       "      <td>NaN</td>\n",
       "      <td>NaN</td>\n",
       "      <td>NaN</td>\n",
       "      <td>WNW</td>\n",
       "      <td>50.0</td>\n",
       "      <td>NaN</td>\n",
       "      <td>...</td>\n",
       "      <td>50.0</td>\n",
       "      <td>28.0</td>\n",
       "      <td>1013.4</td>\n",
       "      <td>1010.3</td>\n",
       "      <td>0.0</td>\n",
       "      <td>NaN</td>\n",
       "      <td>17.3</td>\n",
       "      <td>26.2</td>\n",
       "      <td>NaN</td>\n",
       "      <td>0</td>\n",
       "    </tr>\n",
       "  </tbody>\n",
       "</table>\n",
       "<p>10 rows × 23 columns</p>\n",
       "</div>"
      ],
      "text/plain": [
       "  row ID Location  MinTemp  MaxTemp  Rainfall  Evaporation  Sunshine  \\\n",
       "0   Row0   Albury     13.4     22.9       0.6          NaN       NaN   \n",
       "1   Row1   Albury      7.4     25.1       0.0          NaN       NaN   \n",
       "2   Row2   Albury     17.5     32.3       1.0          NaN       NaN   \n",
       "3   Row3   Albury     14.6     29.7       0.2          NaN       NaN   \n",
       "4   Row4   Albury      7.7     26.7       0.0          NaN       NaN   \n",
       "5   Row5   Albury     13.1     30.1       1.4          NaN       NaN   \n",
       "6   Row6   Albury     13.4     30.4       0.0          NaN       NaN   \n",
       "7   Row7   Albury     15.9     21.7       2.2          NaN       NaN   \n",
       "8   Row8   Albury     12.6     21.0       3.6          NaN       NaN   \n",
       "9   Row9   Albury      9.8     27.7       NaN          NaN       NaN   \n",
       "\n",
       "  WindGustDir  WindGustSpeed WindDir9am  ... Humidity9am  Humidity3pm  \\\n",
       "0           W           44.0          W  ...        71.0         22.0   \n",
       "1         WNW           44.0        NNW  ...        44.0         25.0   \n",
       "2           W           41.0        ENE  ...        82.0         33.0   \n",
       "3         WNW           56.0          W  ...        55.0         23.0   \n",
       "4           W           35.0        SSE  ...        48.0         19.0   \n",
       "5           W           28.0          S  ...        58.0         27.0   \n",
       "6           N           30.0        SSE  ...        48.0         22.0   \n",
       "7         NNE           31.0         NE  ...        89.0         91.0   \n",
       "8          SW           44.0          W  ...        65.0         43.0   \n",
       "9         WNW           50.0        NaN  ...        50.0         28.0   \n",
       "\n",
       "   Pressure9am  Pressure3pm  Cloud9am  Cloud3pm  Temp9am  Temp3pm  RainToday  \\\n",
       "0       1007.7       1007.1       8.0       NaN     16.9     21.8         No   \n",
       "1       1010.6       1007.8       NaN       NaN     17.2     24.3         No   \n",
       "2       1010.8       1006.0       7.0       8.0     17.8     29.7         No   \n",
       "3       1009.2       1005.4       NaN       NaN     20.6     28.9         No   \n",
       "4       1013.4       1010.1       NaN       NaN     16.3     25.5         No   \n",
       "5       1007.0       1005.7       NaN       NaN     20.1     28.2        Yes   \n",
       "6       1011.8       1008.7       NaN       NaN     20.4     28.8         No   \n",
       "7       1010.5       1004.2       8.0       8.0     15.9     17.0        Yes   \n",
       "8       1001.2       1001.8       NaN       7.0     15.8     19.8        Yes   \n",
       "9       1013.4       1010.3       0.0       NaN     17.3     26.2        NaN   \n",
       "\n",
       "   RainTomorrow  \n",
       "0             0  \n",
       "1             0  \n",
       "2             0  \n",
       "3             0  \n",
       "4             0  \n",
       "5             0  \n",
       "6             1  \n",
       "7             1  \n",
       "8             0  \n",
       "9             0  \n",
       "\n",
       "[10 rows x 23 columns]"
      ]
     },
     "execution_count": 15,
     "metadata": {},
     "output_type": "execute_result"
    }
   ],
   "source": [
    "raw_train_data.head(10)"
   ]
  },
  {
   "cell_type": "code",
   "execution_count": 16,
   "id": "e226f9e1",
   "metadata": {},
   "outputs": [
    {
     "data": {
      "text/plain": [
       "(99516, 23)"
      ]
     },
     "execution_count": 16,
     "metadata": {},
     "output_type": "execute_result"
    }
   ],
   "source": [
    "raw_train_data.shape"
   ]
  },
  {
   "cell_type": "code",
   "execution_count": 17,
   "id": "0f3bfc7b",
   "metadata": {},
   "outputs": [
    {
     "data": {
      "text/plain": [
       "(42677, 22)"
      ]
     },
     "execution_count": 17,
     "metadata": {},
     "output_type": "execute_result"
    }
   ],
   "source": [
    "raw_test_data.shape"
   ]
  },
  {
   "cell_type": "code",
   "execution_count": 18,
   "id": "cef0838a",
   "metadata": {},
   "outputs": [
    {
     "data": {
      "text/plain": [
       "Index(['row ID', 'Location', 'MinTemp', 'MaxTemp', 'Rainfall', 'Evaporation',\n",
       "       'Sunshine', 'WindGustDir', 'WindGustSpeed', 'WindDir9am', 'WindDir3pm',\n",
       "       'WindSpeed9am', 'WindSpeed3pm', 'Humidity9am', 'Humidity3pm',\n",
       "       'Pressure9am', 'Pressure3pm', 'Cloud9am', 'Cloud3pm', 'Temp9am',\n",
       "       'Temp3pm', 'RainToday', 'RainTomorrow'],\n",
       "      dtype='object')"
      ]
     },
     "execution_count": 18,
     "metadata": {},
     "output_type": "execute_result"
    }
   ],
   "source": [
    "raw_train_data.columns"
   ]
  },
  {
   "cell_type": "code",
   "execution_count": 19,
   "id": "c236307a",
   "metadata": {},
   "outputs": [
    {
     "data": {
      "text/plain": [
       "Index(['row ID', 'Location', 'MinTemp', 'MaxTemp', 'Rainfall', 'Evaporation',\n",
       "       'Sunshine', 'WindGustDir', 'WindGustSpeed', 'WindDir9am', 'WindDir3pm',\n",
       "       'WindSpeed9am', 'WindSpeed3pm', 'Humidity9am', 'Humidity3pm',\n",
       "       'Pressure9am', 'Pressure3pm', 'Cloud9am', 'Cloud3pm', 'Temp9am',\n",
       "       'Temp3pm', 'RainToday'],\n",
       "      dtype='object')"
      ]
     },
     "execution_count": 19,
     "metadata": {},
     "output_type": "execute_result"
    }
   ],
   "source": [
    "raw_test_data.columns"
   ]
  },
  {
   "cell_type": "markdown",
   "id": "fe80513b",
   "metadata": {},
   "source": [
    "###### _Test data is not labeled _"
   ]
  },
  {
   "cell_type": "code",
   "execution_count": 20,
   "id": "79ab7607",
   "metadata": {
    "scrolled": false
   },
   "outputs": [
    {
     "data": {
      "text/plain": [
       "row ID               0\n",
       "Location             0\n",
       "MinTemp            443\n",
       "MaxTemp            230\n",
       "Rainfall           979\n",
       "Evaporation      42531\n",
       "Sunshine         47317\n",
       "WindGustDir       6521\n",
       "WindGustSpeed     6480\n",
       "WindDir9am        7006\n",
       "WindDir3pm        2648\n",
       "WindSpeed9am       935\n",
       "WindSpeed3pm      1835\n",
       "Humidity9am       1233\n",
       "Humidity3pm       2506\n",
       "Pressure9am       9748\n",
       "Pressure3pm       9736\n",
       "Cloud9am         37572\n",
       "Cloud3pm         40002\n",
       "Temp9am            614\n",
       "Temp3pm           1904\n",
       "RainToday          979\n",
       "RainTomorrow         0\n",
       "dtype: int64"
      ]
     },
     "execution_count": 20,
     "metadata": {},
     "output_type": "execute_result"
    }
   ],
   "source": [
    "# check for NAN values\n",
    "raw_train_data.isna().sum()"
   ]
  },
  {
   "cell_type": "markdown",
   "id": "297261d1",
   "metadata": {},
   "source": [
    "##### need to deal with null values"
   ]
  },
  {
   "cell_type": "code",
   "execution_count": 21,
   "id": "b675cda8",
   "metadata": {},
   "outputs": [
    {
     "name": "stdout",
     "output_type": "stream",
     "text": [
      "<class 'pandas.core.frame.DataFrame'>\n",
      "RangeIndex: 99516 entries, 0 to 99515\n",
      "Data columns (total 23 columns):\n",
      " #   Column         Non-Null Count  Dtype  \n",
      "---  ------         --------------  -----  \n",
      " 0   row ID         99516 non-null  object \n",
      " 1   Location       99516 non-null  object \n",
      " 2   MinTemp        99073 non-null  float64\n",
      " 3   MaxTemp        99286 non-null  float64\n",
      " 4   Rainfall       98537 non-null  float64\n",
      " 5   Evaporation    56985 non-null  float64\n",
      " 6   Sunshine       52199 non-null  float64\n",
      " 7   WindGustDir    92995 non-null  object \n",
      " 8   WindGustSpeed  93036 non-null  float64\n",
      " 9   WindDir9am     92510 non-null  object \n",
      " 10  WindDir3pm     96868 non-null  object \n",
      " 11  WindSpeed9am   98581 non-null  float64\n",
      " 12  WindSpeed3pm   97681 non-null  float64\n",
      " 13  Humidity9am    98283 non-null  float64\n",
      " 14  Humidity3pm    97010 non-null  float64\n",
      " 15  Pressure9am    89768 non-null  float64\n",
      " 16  Pressure3pm    89780 non-null  float64\n",
      " 17  Cloud9am       61944 non-null  float64\n",
      " 18  Cloud3pm       59514 non-null  float64\n",
      " 19  Temp9am        98902 non-null  float64\n",
      " 20  Temp3pm        97612 non-null  float64\n",
      " 21  RainToday      98537 non-null  object \n",
      " 22  RainTomorrow   99516 non-null  int64  \n",
      "dtypes: float64(16), int64(1), object(6)\n",
      "memory usage: 17.5+ MB\n"
     ]
    }
   ],
   "source": [
    "raw_train_data.info()"
   ]
  },
  {
   "cell_type": "code",
   "execution_count": 22,
   "id": "df817d0a",
   "metadata": {},
   "outputs": [
    {
     "name": "stdout",
     "output_type": "stream",
     "text": [
      "Location :\n",
      " ['Albury' 'BadgerysCreek' 'Cobar' 'CoffsHarbour' 'Moree' 'Newcastle'\n",
      " 'NorahHead' 'NorfolkIsland' 'Penrith' 'Richmond' 'Sydney' 'SydneyAirport'\n",
      " 'WaggaWagga' 'Williamtown' 'Wollongong' 'Canberra' 'Tuggeranong'\n",
      " 'MountGinini' 'Ballarat' 'Bendigo' 'Sale' 'MelbourneAirport' 'Melbourne'\n",
      " 'Mildura' 'Nhil' 'Portland' 'Watsonia' 'Dartmoor' 'Brisbane' 'Cairns'\n",
      " 'GoldCoast' 'Townsville' 'Adelaide' 'MountGambier' 'Nuriootpa' 'Woomera'\n",
      " 'Albany' 'Witchcliffe' 'PearceRAAF' 'PerthAirport' 'Perth' 'SalmonGums'\n",
      " 'Walpole' 'Hobart' 'Launceston' 'AliceSprings' 'Darwin' 'Katherine'\n",
      " 'Uluru']\n",
      "number of unique values:  49\n",
      "\n",
      "WindGustDir :\n",
      " ['W' 'WNW' 'N' 'NNE' 'SW' 'ENE' 'SSE' 'NE' 'WSW' 'NNW' 'S' 'ESE' nan 'NW'\n",
      " 'E' 'SSW' 'SE']\n",
      "number of unique values:  17\n",
      "\n",
      "WindDir9am :\n",
      " ['W' 'NNW' 'ENE' 'SSE' 'S' 'NE' nan 'SSW' 'N' 'WSW' 'SE' 'ESE' 'E' 'NW'\n",
      " 'NNE' 'SW' 'WNW']\n",
      "number of unique values:  17\n",
      "\n",
      "WindDir3pm :\n",
      " ['WNW' 'WSW' 'NW' 'W' 'SSE' 'ESE' 'ENE' 'SSW' 'E' 'SW' 'NNW' 'N' 'S' nan\n",
      " 'SE' 'NNE' 'NE']\n",
      "number of unique values:  17\n",
      "\n",
      "RainToday :\n",
      " ['No' 'Yes' nan]\n",
      "number of unique values:  3\n",
      "\n"
     ]
    }
   ],
   "source": [
    "obj_cols = ['Location','WindGustDir','WindDir9am','WindDir3pm','RainToday']\n",
    "for col in obj_cols:\n",
    "    print(col,':\\n',raw_train_data[col].unique())\n",
    "    print('number of unique values: ',len(raw_train_data[col].unique()))\n",
    "    print()"
   ]
  },
  {
   "cell_type": "markdown",
   "id": "55d29361",
   "metadata": {},
   "source": [
    "##### encode categorical data"
   ]
  },
  {
   "cell_type": "code",
   "execution_count": 23,
   "id": "19a67b2f",
   "metadata": {},
   "outputs": [
    {
     "data": {
      "text/plain": [
       "0    77157\n",
       "1    22359\n",
       "Name: RainTomorrow, dtype: int64"
      ]
     },
     "execution_count": 23,
     "metadata": {},
     "output_type": "execute_result"
    }
   ],
   "source": [
    "raw_train_data['RainTomorrow'].value_counts()"
   ]
  },
  {
   "cell_type": "code",
   "execution_count": null,
   "id": "5088ce95",
   "metadata": {},
   "outputs": [],
   "source": []
  }
 ],
 "metadata": {
  "kernelspec": {
   "display_name": "Python 3 (ipykernel)",
   "language": "python",
   "name": "python3"
  },
  "language_info": {
   "codemirror_mode": {
    "name": "ipython",
    "version": 3
   },
   "file_extension": ".py",
   "mimetype": "text/x-python",
   "name": "python",
   "nbconvert_exporter": "python",
   "pygments_lexer": "ipython3",
   "version": "3.11.3"
  }
 },
 "nbformat": 4,
 "nbformat_minor": 5
}
