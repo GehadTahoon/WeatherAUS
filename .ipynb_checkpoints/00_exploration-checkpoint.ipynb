{
 "cells": [
  {
   "cell_type": "code",
   "execution_count": 2,
   "id": "af1509be",
   "metadata": {},
   "outputs": [],
   "source": [
    "# import packages\n",
    "import pandas as pd \n",
    "import numpy as np\n",
    "import matplotlib.pyplot as plt \n",
    "import seaborn as sns \n",
    "sns.set()"
   ]
  },
  {
   "cell_type": "code",
   "execution_count": 3,
   "id": "528d5e5f",
   "metadata": {},
   "outputs": [],
   "source": [
    "# read data\n",
    "raw_train_data = pd.read_csv('data/Weather Training Data.csv')\n",
    "raw_test_data = pd.read_csv('data/Weather Test Data.csv')"
   ]
  },
  {
   "cell_type": "code",
   "execution_count": 4,
   "id": "c4e7827b",
   "metadata": {},
   "outputs": [],
   "source": [
    "raw_train_data.head(10)"
   ]
  },
  {
   "cell_type": "code",
   "execution_count": 5,
   "id": "e226f9e1",
   "metadata": {},
   "outputs": [],
   "source": [
    "raw_train_data.shape"
   ]
  },
  {
   "cell_type": "code",
   "execution_count": 6,
   "id": "0f3bfc7b",
   "metadata": {},
   "outputs": [],
   "source": [
    "raw_test_data.shape"
   ]
  },
  {
   "cell_type": "code",
   "execution_count": 7,
   "id": "cef0838a",
   "metadata": {},
   "outputs": [],
   "source": [
    "raw_train_data.columns"
   ]
  },
  {
   "cell_type": "code",
   "execution_count": 8,
   "id": "c236307a",
   "metadata": {},
   "outputs": [],
   "source": [
    "raw_test_data.columns"
   ]
  },
  {
   "cell_type": "markdown",
   "id": "fe80513b",
   "metadata": {},
   "source": [
    "###### _Test data is not labeled _"
   ]
  },
  {
   "cell_type": "code",
   "execution_count": 9,
   "id": "79ab7607",
   "metadata": {
    "scrolled": false
   },
   "outputs": [],
   "source": [
    "# check for NAN values\n",
    "raw_train_data.isna().sum()"
   ]
  },
  {
   "cell_type": "markdown",
   "id": "297261d1",
   "metadata": {},
   "source": [
    "##### need to deal with null values"
   ]
  },
  {
   "cell_type": "code",
   "execution_count": 10,
   "id": "b675cda8",
   "metadata": {},
   "outputs": [],
   "source": [
    "raw_train_data.info()"
   ]
  },
  {
   "cell_type": "code",
   "execution_count": 11,
   "id": "df817d0a",
   "metadata": {},
   "outputs": [],
   "source": [
    "obj_cols = ['Location','WindGustDir','WindDir9am','WindDir3pm','RainToday']\n",
    "for col in obj_cols:\n",
    "    print(col,':\\n',raw_train_data[col].unique())\n",
    "    print('number of unique values: ',len(raw_train_data[col].unique()))\n",
    "    print()"
   ]
  },
  {
   "cell_type": "markdown",
   "id": "55d29361",
   "metadata": {},
   "source": [
    "##### encode categorical data"
   ]
  },
  {
   "cell_type": "code",
   "execution_count": 12,
   "id": "19a67b2f",
   "metadata": {},
   "outputs": [],
   "source": [
    "raw_train_data['RainTomorrow'].value_counts()"
   ]
  },
  {
   "cell_type": "code",
   "execution_count": null,
   "id": "5088ce95",
   "metadata": {},
   "outputs": [],
   "source": []
  }
 ],
 "metadata": {
  "kernelspec": {
   "display_name": "Python 3 (ipykernel)",
   "language": "python",
   "name": "python3"
  },
  "language_info": {
   "codemirror_mode": {
    "name": "ipython",
    "version": 3
   },
   "file_extension": ".py",
   "mimetype": "text/x-python",
   "name": "python",
   "nbconvert_exporter": "python",
   "pygments_lexer": "ipython3",
   "version": "3.11.3"
  }
 },
 "nbformat": 4,
 "nbformat_minor": 5
}
