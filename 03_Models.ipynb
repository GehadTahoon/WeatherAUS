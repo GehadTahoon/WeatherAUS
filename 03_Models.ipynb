{
 "cells": [
  {
   "cell_type": "code",
   "execution_count": 1,
   "id": "0159106f",
   "metadata": {},
   "outputs": [],
   "source": [
    "DATA_PATH = 'data/preprocessed.pkl'"
   ]
  },
  {
   "cell_type": "code",
   "execution_count": 2,
   "id": "09cf1f26",
   "metadata": {},
   "outputs": [],
   "source": [
    "# import packages\n",
    "import pandas as pd \n",
    "import numpy as np\n",
    "import matplotlib.pyplot as plt \n",
    "import seaborn as sns \n",
    "sns.set()\n",
    "import pickle\n",
    "\n",
    "from sklearn.model_selection import train_test_split\n",
    "from sklearn.naive_bayes import GaussianNB\n",
    "from sklearn.tree import DecisionTreeClassifier\n",
    "from sklearn.ensemble import RandomForestClassifier\n",
    "from sklearn.linear_model import SGDClassifier\n",
    "from sklearn.neighbors import KNeighborsClassifier\n",
    "from sklearn.linear_model import LogisticRegression\n",
    "\n",
    "\n",
    "from sklearn.metrics import accuracy_score, precision_score,f1_score,confusion_matrix, classification_report\n"
   ]
  },
  {
   "cell_type": "code",
   "execution_count": 10,
   "id": "1f0d84e2",
   "metadata": {},
   "outputs": [],
   "source": [
    "data = pd.read_pickle(DATA_PATH)"
   ]
  },
  {
   "cell_type": "code",
   "execution_count": 11,
   "id": "c59db715",
   "metadata": {},
   "outputs": [],
   "source": [
    "X = data.drop('RainTomorrow',axis=1)\n",
    "y = data['RainTomorrow']"
   ]
  },
  {
   "cell_type": "code",
   "execution_count": 12,
   "id": "6ee67163",
   "metadata": {},
   "outputs": [],
   "source": [
    "X_train, X_test, y_train, y_test = train_test_split(X, y, test_size=0.2, random_state=365, stratify=y)"
   ]
  },
  {
   "cell_type": "markdown",
   "id": "5ceadfce",
   "metadata": {},
   "source": [
    "### _Models_"
   ]
  },
  {
   "cell_type": "markdown",
   "id": "ff518d4a",
   "metadata": {},
   "source": [
    "#### *Naive bayes*"
   ]
  },
  {
   "cell_type": "code",
   "execution_count": 16,
   "id": "40ee110e",
   "metadata": {},
   "outputs": [],
   "source": [
    "nv=GaussianNB()\n",
    "nv.fit(X_train,y_train)\n",
    "y_nv_pre=nv.predict(X_test)"
   ]
  },
  {
   "cell_type": "code",
   "execution_count": 17,
   "id": "500f2d2c",
   "metadata": {},
   "outputs": [
    {
     "name": "stdout",
     "output_type": "stream",
     "text": [
      "              precision    recall  f1-score   support\n",
      "\n",
      "           0       0.72      0.80      0.76      5000\n",
      "           1       0.78      0.69      0.73      5000\n",
      "\n",
      "    accuracy                           0.75     10000\n",
      "   macro avg       0.75      0.75      0.75     10000\n",
      "weighted avg       0.75      0.75      0.75     10000\n",
      "\n"
     ]
    }
   ],
   "source": [
    "print(classification_report(y_test,y_nv_pre))"
   ]
  },
  {
   "cell_type": "code",
   "execution_count": 18,
   "id": "6028ecbf",
   "metadata": {},
   "outputs": [
    {
     "name": "stdout",
     "output_type": "stream",
     "text": [
      "accuracy_score for testing on nv is :  0.7462\n",
      "precision_score for testing on nv is :  0.7777527075812274\n",
      "f1_score for testing on nv is :  0.7309160305343512\n"
     ]
    }
   ],
   "source": [
    "\n",
    "print ('accuracy_score for testing on nv is : ',accuracy_score(y_test,y_nv_pre) )\n",
    "print ('precision_score for testing on nv is : ',precision_score(y_test,y_nv_pre) )\n",
    "print ('f1_score for testing on nv is : ',f1_score(y_test,y_nv_pre))"
   ]
  },
  {
   "cell_type": "code",
   "execution_count": null,
   "id": "aa48d319",
   "metadata": {},
   "outputs": [],
   "source": []
  },
  {
   "cell_type": "code",
   "execution_count": 19,
   "id": "c1039e09",
   "metadata": {},
   "outputs": [],
   "source": [
    "# SGD classifier\n",
    "sgd=SGDClassifier()\n",
    "sgd.fit(X_train,y_train)\n",
    "y_sgd_pre=sgd.predict(X_test)"
   ]
  },
  {
   "cell_type": "code",
   "execution_count": 20,
   "id": "946f6247",
   "metadata": {},
   "outputs": [
    {
     "name": "stdout",
     "output_type": "stream",
     "text": [
      "              precision    recall  f1-score   support\n",
      "\n",
      "           0       0.76      0.81      0.79      5000\n",
      "           1       0.80      0.75      0.77      5000\n",
      "\n",
      "    accuracy                           0.78     10000\n",
      "   macro avg       0.78      0.78      0.78     10000\n",
      "weighted avg       0.78      0.78      0.78     10000\n",
      "\n"
     ]
    }
   ],
   "source": [
    "print(classification_report(y_test,y_sgd_pre)) "
   ]
  },
  {
   "cell_type": "code",
   "execution_count": 21,
   "id": "0beb720f",
   "metadata": {},
   "outputs": [
    {
     "name": "stdout",
     "output_type": "stream",
     "text": [
      "accuracy_score for testing on sgd is :  0.7798\n",
      "precision_score for testing on sgd is :  0.7975329646958741\n",
      "f1_score for testing on knn is :sgd 0.7730364873222015\n"
     ]
    }
   ],
   "source": [
    "print ('accuracy_score for testing on sgd is : ',accuracy_score(y_test,y_sgd_pre) )\n",
    "print ('precision_score for testing on sgd is : ',precision_score(y_test,y_sgd_pre) )\n",
    "print ('f1_score for testing on knn is :sgd',f1_score(y_test,y_sgd_pre))"
   ]
  },
  {
   "cell_type": "code",
   "execution_count": null,
   "id": "63c7bc71",
   "metadata": {},
   "outputs": [],
   "source": []
  },
  {
   "cell_type": "code",
   "execution_count": 22,
   "id": "6ab1d9a5",
   "metadata": {},
   "outputs": [],
   "source": [
    "# KNN\n",
    "knn=KNeighborsClassifier(n_neighbors=15)\n",
    "knn.fit(X_train,y_train)\n",
    "y_knn_pre=knn.predict(X_test)"
   ]
  },
  {
   "cell_type": "code",
   "execution_count": 23,
   "id": "0244b063",
   "metadata": {},
   "outputs": [
    {
     "name": "stdout",
     "output_type": "stream",
     "text": [
      "              precision    recall  f1-score   support\n",
      "\n",
      "           0       0.78      0.78      0.78      5000\n",
      "           1       0.78      0.78      0.78      5000\n",
      "\n",
      "    accuracy                           0.78     10000\n",
      "   macro avg       0.78      0.78      0.78     10000\n",
      "weighted avg       0.78      0.78      0.78     10000\n",
      "\n"
     ]
    }
   ],
   "source": [
    "print(classification_report(y_test,y_knn_pre))"
   ]
  },
  {
   "cell_type": "code",
   "execution_count": 24,
   "id": "99f291da",
   "metadata": {},
   "outputs": [
    {
     "name": "stdout",
     "output_type": "stream",
     "text": [
      "accuracy_score for testing on knn is :  0.7801\n",
      "precision_score for testing on knn is :  0.7792622133599202\n",
      "f1_score for testing on knn is :  0.7804293559660508\n"
     ]
    }
   ],
   "source": [
    "print ('accuracy_score for testing on knn is : ',accuracy_score(y_test,y_knn_pre) )\n",
    "print ('precision_score for testing on knn is : ',precision_score(y_test,y_knn_pre) )\n",
    "print ('f1_score for testing on knn is : ',f1_score(y_test,y_knn_pre))"
   ]
  },
  {
   "cell_type": "code",
   "execution_count": null,
   "id": "2b7375de",
   "metadata": {},
   "outputs": [],
   "source": []
  },
  {
   "cell_type": "code",
   "execution_count": 25,
   "id": "6ea9e671",
   "metadata": {},
   "outputs": [],
   "source": [
    "# DT\n",
    "ds=DecisionTreeClassifier()\n",
    "ds.fit(X_train,y_train)\n",
    "y_ds_pre=ds.predict(X_test)"
   ]
  },
  {
   "cell_type": "code",
   "execution_count": 26,
   "id": "eecce70e",
   "metadata": {},
   "outputs": [
    {
     "name": "stdout",
     "output_type": "stream",
     "text": [
      "              precision    recall  f1-score   support\n",
      "\n",
      "           0       0.86      0.81      0.83      5000\n",
      "           1       0.82      0.86      0.84      5000\n",
      "\n",
      "    accuracy                           0.84     10000\n",
      "   macro avg       0.84      0.84      0.84     10000\n",
      "weighted avg       0.84      0.84      0.84     10000\n",
      "\n"
     ]
    }
   ],
   "source": [
    "print(classification_report(y_test,y_ds_pre))"
   ]
  },
  {
   "cell_type": "code",
   "execution_count": 27,
   "id": "8e3de768",
   "metadata": {},
   "outputs": [
    {
     "name": "stdout",
     "output_type": "stream",
     "text": [
      "accuracy_score for testing on ds is :  0.8391\n",
      "precision_score for testing on ds is :  0.8230139074109354\n",
      "f1_score for testing on ds is :  0.8430090740560054\n"
     ]
    }
   ],
   "source": [
    "print ('accuracy_score for testing on ds is : ',accuracy_score(y_test,y_ds_pre) )\n",
    "print ('precision_score for testing on ds is : ',precision_score(y_test,y_ds_pre) )\n",
    "print ('f1_score for testing on ds is : ',f1_score(y_test,y_ds_pre))"
   ]
  },
  {
   "cell_type": "code",
   "execution_count": null,
   "id": "28305565",
   "metadata": {},
   "outputs": [],
   "source": []
  },
  {
   "cell_type": "code",
   "execution_count": 28,
   "id": "b5d2b6ef",
   "metadata": {},
   "outputs": [],
   "source": [
    "# RF\n",
    "rf=RandomForestClassifier()\n",
    "rf.fit(X_train,y_train)\n",
    "y_rf_pre=rf.predict(X_test)"
   ]
  },
  {
   "cell_type": "code",
   "execution_count": 29,
   "id": "1ddc275a",
   "metadata": {},
   "outputs": [
    {
     "name": "stdout",
     "output_type": "stream",
     "text": [
      "              precision    recall  f1-score   support\n",
      "\n",
      "           0       0.90      0.88      0.89      5000\n",
      "           1       0.88      0.90      0.89      5000\n",
      "\n",
      "    accuracy                           0.89     10000\n",
      "   macro avg       0.89      0.89      0.89     10000\n",
      "weighted avg       0.89      0.89      0.89     10000\n",
      "\n"
     ]
    }
   ],
   "source": [
    "print(classification_report(y_test,y_rf_pre))"
   ]
  },
  {
   "cell_type": "code",
   "execution_count": 30,
   "id": "406541db",
   "metadata": {},
   "outputs": [
    {
     "name": "stdout",
     "output_type": "stream",
     "text": [
      "accuracy_score for testing on rf is :  0.8909\n",
      "precision_score for testing on rf is :  0.8849714398266693\n",
      "f1_score for testing on rf is :  0.8917336508881611\n"
     ]
    }
   ],
   "source": [
    "print ('accuracy_score for testing on rf is : ',accuracy_score(y_test,y_rf_pre) )\n",
    "print ('precision_score for testing on rf is : ',precision_score(y_test,y_rf_pre) )\n",
    "print ('f1_score for testing on rf is : ',f1_score(y_test,y_rf_pre))\n"
   ]
  },
  {
   "cell_type": "code",
   "execution_count": null,
   "id": "6f87b085",
   "metadata": {},
   "outputs": [],
   "source": []
  },
  {
   "cell_type": "code",
   "execution_count": 31,
   "id": "97ca6031",
   "metadata": {},
   "outputs": [
    {
     "name": "stderr",
     "output_type": "stream",
     "text": [
      "C:\\Users\\DELL\\anaconda3\\Lib\\site-packages\\sklearn\\linear_model\\_logistic.py:458: ConvergenceWarning: lbfgs failed to converge (status=1):\n",
      "STOP: TOTAL NO. of ITERATIONS REACHED LIMIT.\n",
      "\n",
      "Increase the number of iterations (max_iter) or scale the data as shown in:\n",
      "    https://scikit-learn.org/stable/modules/preprocessing.html\n",
      "Please also refer to the documentation for alternative solver options:\n",
      "    https://scikit-learn.org/stable/modules/linear_model.html#logistic-regression\n",
      "  n_iter_i = _check_optimize_result(\n"
     ]
    }
   ],
   "source": [
    "# LR\n",
    "lr=LogisticRegression()\n",
    "lr.fit(X_train,y_train)\n",
    "y_lr_pre=lr.predict(X_test)\n"
   ]
  },
  {
   "cell_type": "code",
   "execution_count": 32,
   "id": "10aa73e6",
   "metadata": {},
   "outputs": [
    {
     "name": "stdout",
     "output_type": "stream",
     "text": [
      "              precision    recall  f1-score   support\n",
      "\n",
      "           0       0.77      0.80      0.78      5000\n",
      "           1       0.79      0.76      0.78      5000\n",
      "\n",
      "    accuracy                           0.78     10000\n",
      "   macro avg       0.78      0.78      0.78     10000\n",
      "weighted avg       0.78      0.78      0.78     10000\n",
      "\n"
     ]
    }
   ],
   "source": [
    "print(classification_report(y_test,y_lr_pre))"
   ]
  },
  {
   "cell_type": "code",
   "execution_count": 33,
   "id": "97c452fe",
   "metadata": {},
   "outputs": [
    {
     "name": "stdout",
     "output_type": "stream",
     "text": [
      "accuracy_score for testing on logistic regression is :  0.781\n",
      "precision_score for testing on logistic regression is :  0.791735880398671\n",
      "f1_score for testing on logistic regression is :  0.7768948655256724\n"
     ]
    }
   ],
   "source": [
    "print ('accuracy_score for testing on logistic regression is : ',accuracy_score(y_test,y_lr_pre) )\n",
    "print ('precision_score for testing on logistic regression is : ',precision_score(y_test,y_lr_pre) )\n",
    "print ('f1_score for testing on logistic regression is : ',f1_score(y_test,y_lr_pre))\n"
   ]
  },
  {
   "cell_type": "code",
   "execution_count": null,
   "id": "8ad168d8",
   "metadata": {},
   "outputs": [],
   "source": []
  }
 ],
 "metadata": {
  "kernelspec": {
   "display_name": "Python 3 (ipykernel)",
   "language": "python",
   "name": "python3"
  },
  "language_info": {
   "codemirror_mode": {
    "name": "ipython",
    "version": 3
   },
   "file_extension": ".py",
   "mimetype": "text/x-python",
   "name": "python",
   "nbconvert_exporter": "python",
   "pygments_lexer": "ipython3",
   "version": "3.11.3"
  }
 },
 "nbformat": 4,
 "nbformat_minor": 5
}
