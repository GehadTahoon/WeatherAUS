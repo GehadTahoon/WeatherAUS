{
 "cells": [
  {
   "cell_type": "code",
   "execution_count": 1,
   "id": "0159106f",
   "metadata": {},
   "outputs": [],
   "source": [
    "DATA_PATH = 'data/preprocessed.pkl'"
   ]
  },
  {
   "cell_type": "code",
   "execution_count": 38,
   "id": "09cf1f26",
   "metadata": {},
   "outputs": [],
   "source": [
    "# import packages\n",
    "import pandas as pd \n",
    "import numpy as np\n",
    "import matplotlib.pyplot as plt \n",
    "import seaborn as sns \n",
    "sns.set()\n",
    "import pickle\n",
    "\n",
    "from sklearn.model_selection import train_test_split\n",
    "from sklearn.naive_bayes import GaussianNB\n",
    "from sklearn.tree import DecisionTreeClassifier\n",
    "from sklearn.ensemble import RandomForestClassifier\n",
    "from sklearn.linear_model import SGDClassifier\n",
    "from sklearn.neighbors import KNeighborsClassifier\n",
    "from sklearn.linear_model import LogisticRegression\n",
    "\n",
    "\n",
    "from sklearn.metrics import accuracy_score, precision_score,f1_score,confusion_matrix, classification_report\n"
   ]
  },
  {
   "cell_type": "code",
   "execution_count": 3,
   "id": "1f0d84e2",
   "metadata": {},
   "outputs": [],
   "source": [
    "data = pd.read_pickle(DATA_PATH)"
   ]
  },
  {
   "cell_type": "code",
   "execution_count": 4,
   "id": "c59db715",
   "metadata": {},
   "outputs": [],
   "source": [
    "X = data.drop('RainTomorrow',axis=1)\n",
    "y = data['RainTomorrow']"
   ]
  },
  {
   "cell_type": "code",
   "execution_count": 6,
   "id": "6ee67163",
   "metadata": {},
   "outputs": [],
   "source": [
    "X_train, X_test, y_train, y_test = train_test_split(X, y, test_size=0.2, random_state=365, stratify=y)"
   ]
  },
  {
   "cell_type": "markdown",
   "id": "5ceadfce",
   "metadata": {},
   "source": [
    "### _Models_"
   ]
  },
  {
   "cell_type": "markdown",
   "id": "ff518d4a",
   "metadata": {},
   "source": [
    "#### *Naive bayes*"
   ]
  },
  {
   "cell_type": "code",
   "execution_count": 27,
   "id": "40ee110e",
   "metadata": {},
   "outputs": [],
   "source": [
    "nv=GaussianNB()\n",
    "nv.fit(X_train,y_train)\n",
    "y_nv_pre=nv.predict(X_train)"
   ]
  },
  {
   "cell_type": "code",
   "execution_count": 28,
   "id": "500f2d2c",
   "metadata": {},
   "outputs": [
    {
     "ename": "ValueError",
     "evalue": "Found input variables with inconsistent numbers of samples: [19904, 79612]",
     "output_type": "error",
     "traceback": [
      "\u001b[1;31m---------------------------------------------------------------------------\u001b[0m",
      "\u001b[1;31mValueError\u001b[0m                                Traceback (most recent call last)",
      "Cell \u001b[1;32mIn[28], line 1\u001b[0m\n\u001b[1;32m----> 1\u001b[0m \u001b[38;5;28mprint\u001b[39m(classification_report(y_test,y_nv_pre))\n",
      "File \u001b[1;32m~\\anaconda3\\Lib\\site-packages\\sklearn\\metrics\\_classification.py:2310\u001b[0m, in \u001b[0;36mclassification_report\u001b[1;34m(y_true, y_pred, labels, target_names, sample_weight, digits, output_dict, zero_division)\u001b[0m\n\u001b[0;32m   2195\u001b[0m \u001b[38;5;28;01mdef\u001b[39;00m \u001b[38;5;21mclassification_report\u001b[39m(\n\u001b[0;32m   2196\u001b[0m     y_true,\n\u001b[0;32m   2197\u001b[0m     y_pred,\n\u001b[1;32m   (...)\u001b[0m\n\u001b[0;32m   2204\u001b[0m     zero_division\u001b[38;5;241m=\u001b[39m\u001b[38;5;124m\"\u001b[39m\u001b[38;5;124mwarn\u001b[39m\u001b[38;5;124m\"\u001b[39m,\n\u001b[0;32m   2205\u001b[0m ):\n\u001b[0;32m   2206\u001b[0m \u001b[38;5;250m    \u001b[39m\u001b[38;5;124;03m\"\"\"Build a text report showing the main classification metrics.\u001b[39;00m\n\u001b[0;32m   2207\u001b[0m \n\u001b[0;32m   2208\u001b[0m \u001b[38;5;124;03m    Read more in the :ref:`User Guide <classification_report>`.\u001b[39;00m\n\u001b[1;32m   (...)\u001b[0m\n\u001b[0;32m   2307\u001b[0m \u001b[38;5;124;03m    <BLANKLINE>\u001b[39;00m\n\u001b[0;32m   2308\u001b[0m \u001b[38;5;124;03m    \"\"\"\u001b[39;00m\n\u001b[1;32m-> 2310\u001b[0m     y_type, y_true, y_pred \u001b[38;5;241m=\u001b[39m _check_targets(y_true, y_pred)\n\u001b[0;32m   2312\u001b[0m     \u001b[38;5;28;01mif\u001b[39;00m labels \u001b[38;5;129;01mis\u001b[39;00m \u001b[38;5;28;01mNone\u001b[39;00m:\n\u001b[0;32m   2313\u001b[0m         labels \u001b[38;5;241m=\u001b[39m unique_labels(y_true, y_pred)\n",
      "File \u001b[1;32m~\\anaconda3\\Lib\\site-packages\\sklearn\\metrics\\_classification.py:86\u001b[0m, in \u001b[0;36m_check_targets\u001b[1;34m(y_true, y_pred)\u001b[0m\n\u001b[0;32m     59\u001b[0m \u001b[38;5;28;01mdef\u001b[39;00m \u001b[38;5;21m_check_targets\u001b[39m(y_true, y_pred):\n\u001b[0;32m     60\u001b[0m \u001b[38;5;250m    \u001b[39m\u001b[38;5;124;03m\"\"\"Check that y_true and y_pred belong to the same classification task.\u001b[39;00m\n\u001b[0;32m     61\u001b[0m \n\u001b[0;32m     62\u001b[0m \u001b[38;5;124;03m    This converts multiclass or binary types to a common shape, and raises a\u001b[39;00m\n\u001b[1;32m   (...)\u001b[0m\n\u001b[0;32m     84\u001b[0m \u001b[38;5;124;03m    y_pred : array or indicator matrix\u001b[39;00m\n\u001b[0;32m     85\u001b[0m \u001b[38;5;124;03m    \"\"\"\u001b[39;00m\n\u001b[1;32m---> 86\u001b[0m     check_consistent_length(y_true, y_pred)\n\u001b[0;32m     87\u001b[0m     type_true \u001b[38;5;241m=\u001b[39m type_of_target(y_true, input_name\u001b[38;5;241m=\u001b[39m\u001b[38;5;124m\"\u001b[39m\u001b[38;5;124my_true\u001b[39m\u001b[38;5;124m\"\u001b[39m)\n\u001b[0;32m     88\u001b[0m     type_pred \u001b[38;5;241m=\u001b[39m type_of_target(y_pred, input_name\u001b[38;5;241m=\u001b[39m\u001b[38;5;124m\"\u001b[39m\u001b[38;5;124my_pred\u001b[39m\u001b[38;5;124m\"\u001b[39m)\n",
      "File \u001b[1;32m~\\anaconda3\\Lib\\site-packages\\sklearn\\utils\\validation.py:397\u001b[0m, in \u001b[0;36mcheck_consistent_length\u001b[1;34m(*arrays)\u001b[0m\n\u001b[0;32m    395\u001b[0m uniques \u001b[38;5;241m=\u001b[39m np\u001b[38;5;241m.\u001b[39munique(lengths)\n\u001b[0;32m    396\u001b[0m \u001b[38;5;28;01mif\u001b[39;00m \u001b[38;5;28mlen\u001b[39m(uniques) \u001b[38;5;241m>\u001b[39m \u001b[38;5;241m1\u001b[39m:\n\u001b[1;32m--> 397\u001b[0m     \u001b[38;5;28;01mraise\u001b[39;00m \u001b[38;5;167;01mValueError\u001b[39;00m(\n\u001b[0;32m    398\u001b[0m         \u001b[38;5;124m\"\u001b[39m\u001b[38;5;124mFound input variables with inconsistent numbers of samples: \u001b[39m\u001b[38;5;132;01m%r\u001b[39;00m\u001b[38;5;124m\"\u001b[39m\n\u001b[0;32m    399\u001b[0m         \u001b[38;5;241m%\u001b[39m [\u001b[38;5;28mint\u001b[39m(l) \u001b[38;5;28;01mfor\u001b[39;00m l \u001b[38;5;129;01min\u001b[39;00m lengths]\n\u001b[0;32m    400\u001b[0m     )\n",
      "\u001b[1;31mValueError\u001b[0m: Found input variables with inconsistent numbers of samples: [19904, 79612]"
     ]
    }
   ],
   "source": [
    "print(classification_report(y_test,y_nv_pre))"
   ]
  },
  {
   "cell_type": "code",
   "execution_count": null,
   "id": "6028ecbf",
   "metadata": {},
   "outputs": [],
   "source": [
    "\n",
    "print ('accuracy_score for testing on nv is : ',accuracy_score(y_test,y_nv_pre) )\n",
    "print ('precision_score for testing on nv is : ',precision_score(y_test,y_nv_pre) )\n",
    "print ('f1_score for testing on nv is : ',f1_score(y_test,y_nv_pre))"
   ]
  },
  {
   "cell_type": "code",
   "execution_count": null,
   "id": "aa48d319",
   "metadata": {},
   "outputs": [],
   "source": []
  },
  {
   "cell_type": "code",
   "execution_count": 9,
   "id": "c1039e09",
   "metadata": {},
   "outputs": [],
   "source": [
    "# SGD classifier\n",
    "sgd=SGDClassifier()\n",
    "sgd.fit(X_train,y_train)\n",
    "y_sgd_pre=sgd.predict(X_test)"
   ]
  },
  {
   "cell_type": "code",
   "execution_count": 10,
   "id": "946f6247",
   "metadata": {},
   "outputs": [
    {
     "name": "stdout",
     "output_type": "stream",
     "text": [
      "              precision    recall  f1-score   support\n",
      "\n",
      "           0       0.88      0.92      0.90     15432\n",
      "           1       0.68      0.55      0.61      4472\n",
      "\n",
      "    accuracy                           0.84     19904\n",
      "   macro avg       0.78      0.74      0.75     19904\n",
      "weighted avg       0.83      0.84      0.83     19904\n",
      "\n"
     ]
    }
   ],
   "source": [
    "print(classification_report(y_test,y_sgd_pre)) "
   ]
  },
  {
   "cell_type": "code",
   "execution_count": 11,
   "id": "0beb720f",
   "metadata": {},
   "outputs": [
    {
     "name": "stdout",
     "output_type": "stream",
     "text": [
      "accuracy_score for testing on sgd is :  0.8404340836012861\n",
      "precision_score for testing on sgd is :  0.6769524849808848\n",
      "f1_score for testing on knn is :sgd 0.6095402016228177\n"
     ]
    }
   ],
   "source": [
    "print ('accuracy_score for testing on sgd is : ',accuracy_score(y_test,y_sgd_pre) )\n",
    "print ('precision_score for testing on sgd is : ',precision_score(y_test,y_sgd_pre) )\n",
    "print ('f1_score for testing on knn is :sgd',f1_score(y_test,y_sgd_pre))"
   ]
  },
  {
   "cell_type": "code",
   "execution_count": null,
   "id": "63c7bc71",
   "metadata": {},
   "outputs": [],
   "source": []
  },
  {
   "cell_type": "code",
   "execution_count": 17,
   "id": "6ab1d9a5",
   "metadata": {},
   "outputs": [],
   "source": [
    "# KNN\n",
    "knn=KNeighborsClassifier(n_neighbors=15)\n",
    "knn.fit(X_train,y_train)\n",
    "y_knn_pre=knn.predict(X_test)"
   ]
  },
  {
   "cell_type": "code",
   "execution_count": 18,
   "id": "0244b063",
   "metadata": {},
   "outputs": [
    {
     "name": "stdout",
     "output_type": "stream",
     "text": [
      "              precision    recall  f1-score   support\n",
      "\n",
      "           0       0.86      0.95      0.90     15432\n",
      "           1       0.74      0.47      0.57      4472\n",
      "\n",
      "    accuracy                           0.84     19904\n",
      "   macro avg       0.80      0.71      0.74     19904\n",
      "weighted avg       0.83      0.84      0.83     19904\n",
      "\n"
     ]
    }
   ],
   "source": [
    "print(classification_report(y_test,y_knn_pre))"
   ]
  },
  {
   "cell_type": "code",
   "execution_count": 19,
   "id": "99f291da",
   "metadata": {},
   "outputs": [
    {
     "name": "stdout",
     "output_type": "stream",
     "text": [
      "accuracy_score for testing on knn is :  0.8434485530546624\n",
      "precision_score for testing on knn is :  0.7395759717314487\n",
      "f1_score for testing on knn is :  0.5732675979183786\n"
     ]
    }
   ],
   "source": [
    "print ('accuracy_score for testing on knn is : ',accuracy_score(y_test,y_knn_pre) )\n",
    "print ('precision_score for testing on knn is : ',precision_score(y_test,y_knn_pre) )\n",
    "print ('f1_score for testing on knn is : ',f1_score(y_test,y_knn_pre))"
   ]
  },
  {
   "cell_type": "code",
   "execution_count": null,
   "id": "2b7375de",
   "metadata": {},
   "outputs": [],
   "source": []
  },
  {
   "cell_type": "code",
   "execution_count": 29,
   "id": "6ea9e671",
   "metadata": {},
   "outputs": [],
   "source": [
    "# DT\n",
    "ds=DecisionTreeClassifier()\n",
    "ds.fit(X_train,y_train)\n",
    "y_ds_pre=ds.predict(X_test)"
   ]
  },
  {
   "cell_type": "code",
   "execution_count": 30,
   "id": "eecce70e",
   "metadata": {},
   "outputs": [
    {
     "name": "stdout",
     "output_type": "stream",
     "text": [
      "              precision    recall  f1-score   support\n",
      "\n",
      "           0       0.86      0.85      0.86     15432\n",
      "           1       0.51      0.54      0.53      4472\n",
      "\n",
      "    accuracy                           0.78     19904\n",
      "   macro avg       0.69      0.69      0.69     19904\n",
      "weighted avg       0.79      0.78      0.78     19904\n",
      "\n"
     ]
    }
   ],
   "source": [
    "print(classification_report(y_test,y_ds_pre))"
   ]
  },
  {
   "cell_type": "code",
   "execution_count": 31,
   "id": "8e3de768",
   "metadata": {},
   "outputs": [
    {
     "name": "stdout",
     "output_type": "stream",
     "text": [
      "accuracy_score for testing on ds is :  0.7819031350482315\n",
      "precision_score for testing on ds is :  0.5140226932134446\n",
      "f1_score for testing on ds is :  0.5252105435852564\n"
     ]
    }
   ],
   "source": [
    "print ('accuracy_score for testing on ds is : ',accuracy_score(y_test,y_ds_pre) )\n",
    "print ('precision_score for testing on ds is : ',precision_score(y_test,y_ds_pre) )\n",
    "print ('f1_score for testing on ds is : ',f1_score(y_test,y_ds_pre))"
   ]
  },
  {
   "cell_type": "code",
   "execution_count": null,
   "id": "28305565",
   "metadata": {},
   "outputs": [],
   "source": []
  },
  {
   "cell_type": "code",
   "execution_count": 32,
   "id": "b5d2b6ef",
   "metadata": {},
   "outputs": [],
   "source": [
    "# RF\n",
    "rf=RandomForestClassifier()\n",
    "rf.fit(X_train,y_train)\n",
    "y_rf_pre=rf.predict(X_test)"
   ]
  },
  {
   "cell_type": "code",
   "execution_count": 33,
   "id": "1ddc275a",
   "metadata": {},
   "outputs": [
    {
     "name": "stdout",
     "output_type": "stream",
     "text": [
      "              precision    recall  f1-score   support\n",
      "\n",
      "           0       0.87      0.95      0.91     15432\n",
      "           1       0.76      0.52      0.62      4472\n",
      "\n",
      "    accuracy                           0.86     19904\n",
      "   macro avg       0.82      0.74      0.76     19904\n",
      "weighted avg       0.85      0.86      0.85     19904\n",
      "\n"
     ]
    }
   ],
   "source": [
    "print(classification_report(y_test,y_rf_pre))"
   ]
  },
  {
   "cell_type": "code",
   "execution_count": 34,
   "id": "406541db",
   "metadata": {},
   "outputs": [
    {
     "name": "stdout",
     "output_type": "stream",
     "text": [
      "accuracy_score for testing on rf is :  0.8553557073954984\n",
      "precision_score for testing on rf is :  0.7597000326051516\n",
      "f1_score for testing on rf is :  0.618119113940841\n"
     ]
    }
   ],
   "source": [
    "print ('accuracy_score for testing on rf is : ',accuracy_score(y_test,y_rf_pre) )\n",
    "print ('precision_score for testing on rf is : ',precision_score(y_test,y_rf_pre) )\n",
    "print ('f1_score for testing on rf is : ',f1_score(y_test,y_rf_pre))\n"
   ]
  },
  {
   "cell_type": "code",
   "execution_count": null,
   "id": "6f87b085",
   "metadata": {},
   "outputs": [],
   "source": []
  },
  {
   "cell_type": "code",
   "execution_count": 39,
   "id": "97ca6031",
   "metadata": {},
   "outputs": [
    {
     "name": "stderr",
     "output_type": "stream",
     "text": [
      "C:\\Users\\DELL\\anaconda3\\Lib\\site-packages\\sklearn\\linear_model\\_logistic.py:458: ConvergenceWarning: lbfgs failed to converge (status=1):\n",
      "STOP: TOTAL NO. of ITERATIONS REACHED LIMIT.\n",
      "\n",
      "Increase the number of iterations (max_iter) or scale the data as shown in:\n",
      "    https://scikit-learn.org/stable/modules/preprocessing.html\n",
      "Please also refer to the documentation for alternative solver options:\n",
      "    https://scikit-learn.org/stable/modules/linear_model.html#logistic-regression\n",
      "  n_iter_i = _check_optimize_result(\n"
     ]
    }
   ],
   "source": [
    "# LR\n",
    "lr=LogisticRegression()\n",
    "lr.fit(X_train,y_train)\n",
    "y_lr_pre=lr.predict(X_test)\n"
   ]
  },
  {
   "cell_type": "code",
   "execution_count": 40,
   "id": "10aa73e6",
   "metadata": {},
   "outputs": [
    {
     "name": "stdout",
     "output_type": "stream",
     "text": [
      "              precision    recall  f1-score   support\n",
      "\n",
      "           0       0.86      0.94      0.90     15432\n",
      "           1       0.71      0.48      0.57      4472\n",
      "\n",
      "    accuracy                           0.84     19904\n",
      "   macro avg       0.79      0.71      0.74     19904\n",
      "weighted avg       0.83      0.84      0.83     19904\n",
      "\n"
     ]
    }
   ],
   "source": [
    "print(classification_report(y_test,y_lr_pre))"
   ]
  },
  {
   "cell_type": "code",
   "execution_count": 41,
   "id": "97c452fe",
   "metadata": {},
   "outputs": [
    {
     "name": "stdout",
     "output_type": "stream",
     "text": [
      "accuracy_score for testing on logistic regression is :  0.838725884244373\n",
      "precision_score for testing on logistic regression is :  0.7079762689518787\n",
      "f1_score for testing on logistic regression is :  0.5723421262989609\n"
     ]
    }
   ],
   "source": [
    "print ('accuracy_score for testing on logistic regression is : ',accuracy_score(y_test,y_lr_pre) )\n",
    "print ('precision_score for testing on logistic regression is : ',precision_score(y_test,y_lr_pre) )\n",
    "print ('f1_score for testing on logistic regression is : ',f1_score(y_test,y_lr_pre))\n"
   ]
  },
  {
   "cell_type": "code",
   "execution_count": null,
   "id": "8ad168d8",
   "metadata": {},
   "outputs": [],
   "source": []
  }
 ],
 "metadata": {
  "kernelspec": {
   "display_name": "Python 3 (ipykernel)",
   "language": "python",
   "name": "python3"
  },
  "language_info": {
   "codemirror_mode": {
    "name": "ipython",
    "version": 3
   },
   "file_extension": ".py",
   "mimetype": "text/x-python",
   "name": "python",
   "nbconvert_exporter": "python",
   "pygments_lexer": "ipython3",
   "version": "3.11.3"
  }
 },
 "nbformat": 4,
 "nbformat_minor": 5
}
